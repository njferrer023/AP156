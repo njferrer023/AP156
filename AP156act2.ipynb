{
 "cells": [
  {
   "cell_type": "markdown",
   "metadata": {
    "collapsed": false
   },
   "source": [
    "#### AP156- Activity 2\n",
    "##### Nica Jane B. Ferrer\n",
    "##### 2013-25765 "
   ]
  },
  {
   "cell_type": "code",
   "execution_count": null,
   "metadata": {
    "collapsed": true
   },
   "outputs": [],
   "source": [
    " \n",
    "\n",
    "\n",
    "\n",
    "\n",
    "# One can verify this in fact by generating a bunch of datasets \n",
    "# Exercise: Using the code from gendata_book_post.py, generate at\n",
    "# least 100 datasets, calculate chi^2 using Eq. 1.28 and show that\n",
    "# the distribution of chi^2(bold{a0}) is given by Eq. 1.29\n",
    "\n",
    "# The chi^2 distribution PDF (Eq. 1.29) is available from scipy.stats\n",
    "# Use the help function to figure out the parameters: help(chi2.pdf)\n",
    "# Tip: check out the other functions available help(chi2)\n",
    "\n"
   ]
  },
  {
   "cell_type": "code",
   "execution_count": 78,
   "metadata": {
    "collapsed": false
   },
   "outputs": [
    {
     "data": {
      "image/png": "[encoded data removed]",
      "text/plain": [
       "<matplotlib.figure.Figure at 0x6ca9970>"
      ]
     },
     "metadata": {},
     "output_type": "display_data"
    }
   ],
   "source": [
    "%matplotlib inline\n",
    "import numpy as np\n",
    "import matplotlib.pyplot as plt\n",
    "from scipy.optimize import curve_fit\n",
    "from scipy.stats import chi2\n",
    "from scipy.special import gammainc\n",
    "#The code given in gendata_book_post.py was used in this exercise\n",
    "\n",
    "\n",
    "def fitfunc(t, a, om, phi, b):\n",
    "    return a*np.sin(om*t + phi) * np.exp(-b*t)\n",
    "a0s = []\n",
    "om0s = []\n",
    "phi0s = []\n",
    "b0s = []\n",
    "\n",
    "chi2vals = []\n",
    "avals = []\n",
    "\n",
    "densities = []\n",
    "#Generate data sets:\n",
    "for x in xrange(0,100):\n",
    "    t = np.linspace(0, 3*np.pi, 11)\n",
    "    y = np.sin(t)*np.exp(-t/10.) + 0.4*np.random.normal(scale=0.3,size=11)\n",
    "    #Describe the nature of the twin peaks.\n",
    "\n",
    "    #In general, save your data first...\n",
    "    np.savetxt('dampedosc.dat', zip(t,y))\n",
    "    data = np.loadtxt('dampedosc.dat')\n",
    "    \n",
    "    fit = curve_fit(fitfunc, data[:,0], data[:,1], p0=[1.1, 1.1, 0.1, 0.2])[0]\n",
    "    a0s.append(fit[0])\n",
    "    om0s.append(fit[1])\n",
    "    phi0s.append(fit[2])\n",
    "    b0s.append(fit[3])\n",
    "    \n",
    "    ###calculate the variance\n",
    "    variances = []\n",
    "    #calculate the mean:\n",
    "    yvals = data[:,1]\n",
    "    N = len(yvals)\n",
    "    mu = sum(yvals)/N\n",
    "   \n",
    "    #calculate the variance\n",
    "    for i in xrange(0,N):\n",
    "        variance_i = (yvals[i]-mu)**2/N\n",
    "        variances.append(variance_i)\n",
    "    \n",
    "    ###Calculate chi2 using 1.28:\n",
    "    tvals = data[:,0]\n",
    "    \n",
    "    for j in xrange(0,N):\n",
    "        chi2jcomp = ((yvals[j]-fitfunc(tvals[j], a0s[x], om0s[x], phi0s[x], b0s[x]))/variances[j])**2\n",
    "        chi2val += chi2jcomp\n",
    "    \n",
    "    chi2vals.append(chi2val)\n",
    "    P =chi2.pdf(chi2val,7)\n",
    "    densities.append(P)\n",
    "plt.plot(chi2vals,densities)\n",
    "plt.show()\n"
   ]
  },
  {
   "cell_type": "code",
   "execution_count": null,
   "metadata": {
    "collapsed": false
   },
   "outputs": [],
   "source": []
  },
  {
   "cell_type": "code",
   "execution_count": null,
   "metadata": {
    "collapsed": false
   },
   "outputs": [],
   "source": []
  },
  {
   "cell_type": "code",
   "execution_count": null,
   "metadata": {
    "collapsed": false
   },
   "outputs": [],
   "source": []
  },
  {
   "cell_type": "code",
   "execution_count": null,
   "metadata": {
    "collapsed": true
   },
   "outputs": [],
   "source": []
  }
 ],
 "metadata": {
  "kernelspec": {
   "display_name": "Python 2",
   "language": "python",
   "name": "python2"
  },
  "language_info": {
   "codemirror_mode": {
    "name": "ipython",
    "version": 2
   },
   "file_extension": ".py",
   "mimetype": "text/x-python",
   "name": "python",
   "nbconvert_exporter": "python",
   "pygments_lexer": "ipython2",
   "version": "2.7.11"
  }
 },
 "nbformat": 4,
 "nbformat_minor": 0
}
